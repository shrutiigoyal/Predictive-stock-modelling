{
  "nbformat": 4,
  "nbformat_minor": 0,
  "metadata": {
    "colab": {
      "provenance": []
    },
    "kernelspec": {
      "name": "python3",
      "display_name": "Python 3"
    },
    "language_info": {
      "name": "python"
    }
  },
  "cells": [
    {
      "cell_type": "markdown",
      "source": [
        "##Auto-Correlation and SVM\n"
      ],
      "metadata": {
        "id": "xuWpe6CeFSqI"
      }
    },
    {
      "cell_type": "code",
      "source": [
        "import yfinance as yf\n",
        "import pandas as pd\n",
        "import numpy as np\n",
        "from statsmodels.tsa.stattools import acf\n",
        "from sklearn.svm import SVR\n",
        "from sklearn.preprocessing import StandardScaler\n",
        "from sklearn.metrics import mean_squared_error"
      ],
      "metadata": {
        "id": "aYpa4l_HGm07"
      },
      "execution_count": null,
      "outputs": []
    },
    {
      "cell_type": "code",
      "source": [
        "ticker_symbol = \"^NSEI\"\n",
        "data = yf.download(ticker_symbol, start=\"2015-01-01\", end=\"2023-07-05\")\n",
        "data.fillna(method='ffill', inplace=True)\n",
        "data = data[['Close', 'Volume']]\n",
        "train_data = data[data.index < '2023-01-01']\n",
        "test_data = data[data.index >= '2023-01-01']\n",
        "\n"
      ],
      "metadata": {
        "colab": {
          "base_uri": "https://localhost:8080/"
        },
        "id": "w-LZzkfsH7tk",
        "outputId": "187a6925-8c5c-42b9-c43e-1667b8a64c56"
      },
      "execution_count": null,
      "outputs": [
        {
          "output_type": "stream",
          "name": "stderr",
          "text": [
            "\r[*********************100%%**********************]  1 of 1 completed\n"
          ]
        }
      ]
    },
    {
      "cell_type": "code",
      "source": [
        "autocorr = acf(train_data['Close'], nlags=20)\n",
        "print(\"Autocorrelation values:\", autocorr)\n",
        "def rolling_autocorr(series, window):\n",
        "    return series.rolling(window).apply(lambda x: x.autocorr(), raw=False)\n",
        "window_size = 20\n",
        "train_data['Autocorr'] = rolling_autocorr(train_data['Close'], window=window_size)\n",
        "test_data['Autocorr'] = rolling_autocorr(test_data['Close'], window=window_size)\n",
        "\n",
        "train_data.dropna(inplace=True)\n",
        "test_data.dropna(inplace=True)\n"
      ],
      "metadata": {
        "colab": {
          "base_uri": "https://localhost:8080/"
        },
        "collapsed": true,
        "id": "5E-F4KC2IPy1",
        "outputId": "8712f0b6-9659-46bc-b568-26bedfd99d1b"
      },
      "execution_count": null,
      "outputs": [
        {
          "output_type": "stream",
          "name": "stdout",
          "text": [
            "Autocorrelation values: [1.         0.99799882 0.9959548  0.99389418 0.99184763 0.98982259\n",
            " 0.987734   0.985653   0.98348687 0.98125462 0.97905277 0.9768531\n",
            " 0.97468431 0.97239919 0.97017133 0.96800445 0.96581482 0.9636379\n",
            " 0.96141274 0.95917654 0.95691178]\n"
          ]
        },
        {
          "output_type": "stream",
          "name": "stderr",
          "text": [
            "<ipython-input-7-7588d8e72b45>:6: SettingWithCopyWarning:\n",
            "\n",
            "\n",
            "A value is trying to be set on a copy of a slice from a DataFrame.\n",
            "Try using .loc[row_indexer,col_indexer] = value instead\n",
            "\n",
            "See the caveats in the documentation: https://pandas.pydata.org/pandas-docs/stable/user_guide/indexing.html#returning-a-view-versus-a-copy\n",
            "\n",
            "<ipython-input-7-7588d8e72b45>:7: SettingWithCopyWarning:\n",
            "\n",
            "\n",
            "A value is trying to be set on a copy of a slice from a DataFrame.\n",
            "Try using .loc[row_indexer,col_indexer] = value instead\n",
            "\n",
            "See the caveats in the documentation: https://pandas.pydata.org/pandas-docs/stable/user_guide/indexing.html#returning-a-view-versus-a-copy\n",
            "\n",
            "<ipython-input-7-7588d8e72b45>:9: SettingWithCopyWarning:\n",
            "\n",
            "\n",
            "A value is trying to be set on a copy of a slice from a DataFrame\n",
            "\n",
            "See the caveats in the documentation: https://pandas.pydata.org/pandas-docs/stable/user_guide/indexing.html#returning-a-view-versus-a-copy\n",
            "\n",
            "<ipython-input-7-7588d8e72b45>:10: SettingWithCopyWarning:\n",
            "\n",
            "\n",
            "A value is trying to be set on a copy of a slice from a DataFrame\n",
            "\n",
            "See the caveats in the documentation: https://pandas.pydata.org/pandas-docs/stable/user_guide/indexing.html#returning-a-view-versus-a-copy\n",
            "\n"
          ]
        }
      ]
    },
    {
      "cell_type": "code",
      "source": [
        "X_train = train_data[['Close', 'Volume', 'Autocorr']]\n",
        "y_train = train_data['Close']\n",
        "X_test = test_data[['Close', 'Volume', 'Autocorr']]\n",
        "y_test = test_data['Close']\n",
        "\n",
        "\n",
        "scaler = StandardScaler()\n",
        "X_train_scaled = scaler.fit_transform(X_train)\n",
        "X_test_scaled = scaler.transform(X_test)\n",
        "svm_model = SVR(kernel='rbf')\n",
        "svm_model.fit(X_train_scaled, y_train)\n",
        "y_pred = svm_model.predict(X_test_scaled)\n",
        "\n",
        "mse = mean_squared_error(y_test, y_pred)\n",
        "print(f\"Mean Squared Error: {mse}\")\n",
        "comparison_df = pd.DataFrame({'Actual': y_test, 'Predicted': y_pred}, index=test_data.index)\n",
        "print(comparison_df.head())\n"
      ],
      "metadata": {
        "colab": {
          "base_uri": "https://localhost:8080/"
        },
        "collapsed": true,
        "id": "2fOqrQJnJArL",
        "outputId": "d93b0a11-c9c6-4d83-ec2b-8230b5a6fbf7"
      },
      "execution_count": null,
      "outputs": [
        {
          "output_type": "stream",
          "name": "stdout",
          "text": [
            "Mean Squared Error: 45936301.66577203\n",
            "                  Actual     Predicted\n",
            "Date                                  \n",
            "2023-01-30  17648.949219  11172.692328\n",
            "2023-01-31  17662.150391  11197.943374\n",
            "2023-02-01  17616.300781  11204.574340\n",
            "2023-02-02  17610.400391  11231.266905\n",
            "2023-02-03  17854.050781  11235.703474\n"
          ]
        }
      ]
    },
    {
      "cell_type": "markdown",
      "source": [
        "## Introducing BB, Moving average, EMA"
      ],
      "metadata": {
        "id": "_iSKNGYEJlgg"
      }
    },
    {
      "cell_type": "code",
      "source": [
        "data['MA_200'] = data['Close'].rolling(window=200).mean()\n",
        "data['MA_50'] = data['Close'].rolling(window=50).mean()\n",
        "data['MA_20'] = data['Close'].rolling(window=20).mean()\n",
        "\n",
        "# Calculate the Bollinger Bands (20-day MA, 2 standard deviations)\n",
        "data['BB_upper'] = data['MA_20'] + (data['Close'].rolling(window=20).std() * 2)\n",
        "data['BB_lower'] = data['MA_20'] - (data['Close'].rolling(window=20).std() * 2)\n",
        "\n",
        "# Calculate the Exponential Moving Average (20-day EMA)\n",
        "data['EMA_20'] = data['Close'].ewm(span=20, adjust=False).mean()\n"
      ],
      "metadata": {
        "colab": {
          "base_uri": "https://localhost:8080/"
        },
        "collapsed": true,
        "id": "5IQcC1eOKHfZ",
        "outputId": "504bb31e-843e-4044-e648-5e9b573c9cfe"
      },
      "execution_count": null,
      "outputs": [
        {
          "output_type": "stream",
          "name": "stderr",
          "text": [
            "<ipython-input-10-efd7d06b77cf>:1: SettingWithCopyWarning:\n",
            "\n",
            "\n",
            "A value is trying to be set on a copy of a slice from a DataFrame.\n",
            "Try using .loc[row_indexer,col_indexer] = value instead\n",
            "\n",
            "See the caveats in the documentation: https://pandas.pydata.org/pandas-docs/stable/user_guide/indexing.html#returning-a-view-versus-a-copy\n",
            "\n",
            "<ipython-input-10-efd7d06b77cf>:2: SettingWithCopyWarning:\n",
            "\n",
            "\n",
            "A value is trying to be set on a copy of a slice from a DataFrame.\n",
            "Try using .loc[row_indexer,col_indexer] = value instead\n",
            "\n",
            "See the caveats in the documentation: https://pandas.pydata.org/pandas-docs/stable/user_guide/indexing.html#returning-a-view-versus-a-copy\n",
            "\n",
            "<ipython-input-10-efd7d06b77cf>:3: SettingWithCopyWarning:\n",
            "\n",
            "\n",
            "A value is trying to be set on a copy of a slice from a DataFrame.\n",
            "Try using .loc[row_indexer,col_indexer] = value instead\n",
            "\n",
            "See the caveats in the documentation: https://pandas.pydata.org/pandas-docs/stable/user_guide/indexing.html#returning-a-view-versus-a-copy\n",
            "\n"
          ]
        }
      ]
    },
    {
      "cell_type": "code",
      "source": [
        "data.fillna(method='ffill', inplace=True)\n",
        "data.dropna(inplace=True)\n",
        "train_data = data[data.index < '2023-01-01']\n",
        "test_data = data[data.index >= '2023-01-01']\n",
        "\n",
        "def rolling_autocorr(series, window):\n",
        "    return series.rolling(window).apply(lambda x: x.autocorr(), raw=False)\n",
        "window_size = 20\n",
        "\n",
        "train_data['Autocorr'] = rolling_autocorr(train_data['Close'], window=window_size)\n",
        "test_data['Autocorr'] = rolling_autocorr(test_data['Close'], window=window_size)\n",
        "\n",
        "train_data.dropna(inplace=True)\n",
        "test_data.dropna(inplace=True)"
      ],
      "metadata": {
        "colab": {
          "base_uri": "https://localhost:8080/"
        },
        "collapsed": true,
        "id": "w9A04oplKazA",
        "outputId": "dad73432-0915-49ae-9bc7-419df1c86009"
      },
      "execution_count": null,
      "outputs": [
        {
          "output_type": "stream",
          "name": "stderr",
          "text": [
            "<ipython-input-11-5d6238bf9b9a>:10: SettingWithCopyWarning:\n",
            "\n",
            "\n",
            "A value is trying to be set on a copy of a slice from a DataFrame.\n",
            "Try using .loc[row_indexer,col_indexer] = value instead\n",
            "\n",
            "See the caveats in the documentation: https://pandas.pydata.org/pandas-docs/stable/user_guide/indexing.html#returning-a-view-versus-a-copy\n",
            "\n",
            "<ipython-input-11-5d6238bf9b9a>:11: SettingWithCopyWarning:\n",
            "\n",
            "\n",
            "A value is trying to be set on a copy of a slice from a DataFrame.\n",
            "Try using .loc[row_indexer,col_indexer] = value instead\n",
            "\n",
            "See the caveats in the documentation: https://pandas.pydata.org/pandas-docs/stable/user_guide/indexing.html#returning-a-view-versus-a-copy\n",
            "\n",
            "<ipython-input-11-5d6238bf9b9a>:13: SettingWithCopyWarning:\n",
            "\n",
            "\n",
            "A value is trying to be set on a copy of a slice from a DataFrame\n",
            "\n",
            "See the caveats in the documentation: https://pandas.pydata.org/pandas-docs/stable/user_guide/indexing.html#returning-a-view-versus-a-copy\n",
            "\n",
            "<ipython-input-11-5d6238bf9b9a>:14: SettingWithCopyWarning:\n",
            "\n",
            "\n",
            "A value is trying to be set on a copy of a slice from a DataFrame\n",
            "\n",
            "See the caveats in the documentation: https://pandas.pydata.org/pandas-docs/stable/user_guide/indexing.html#returning-a-view-versus-a-copy\n",
            "\n"
          ]
        }
      ]
    },
    {
      "cell_type": "code",
      "source": [
        "features = ['Close', 'Volume', 'Autocorr', 'MA_200', 'MA_50', 'MA_20', 'BB_upper', 'BB_lower', 'EMA_20']\n",
        "X_train = train_data[features]\n",
        "y_train = train_data['Close']\n",
        "X_test = test_data[features]\n",
        "y_test = test_data['Close']\n",
        "\n",
        "scaler = StandardScaler()\n",
        "X_train_scaled = scaler.fit_transform(X_train)\n",
        "X_test_scaled = scaler.transform(X_test)\n",
        "\n",
        "svm_model = SVR(kernel='rbf')\n",
        "svm_model.fit(X_train_scaled, y_train)\n",
        "\n",
        "y_pred = svm_model.predict(X_test_scaled)\n",
        "\n",
        "# Calculate the Mean Squared Error\n",
        "mse = mean_squared_error(y_test, y_pred)\n",
        "print(f\"Mean Squared Error: {mse}\")"
      ],
      "metadata": {
        "colab": {
          "base_uri": "https://localhost:8080/"
        },
        "id": "-j5dkA1sKkyj",
        "outputId": "123ea4d9-7a53-44eb-8a1b-0a2674ca114e"
      },
      "execution_count": null,
      "outputs": [
        {
          "output_type": "stream",
          "name": "stdout",
          "text": [
            "Mean Squared Error: 41993485.79888248\n"
          ]
        }
      ]
    },
    {
      "cell_type": "markdown",
      "source": [
        "## Lag feature and Techinal Indicator"
      ],
      "metadata": {
        "id": "jaulNDiPKsU-"
      }
    },
    {
      "cell_type": "code",
      "source": [
        "!pip install ta\n"
      ],
      "metadata": {
        "colab": {
          "base_uri": "https://localhost:8080/"
        },
        "collapsed": true,
        "id": "rekUWNVGMSet",
        "outputId": "37753ed4-3d97-4471-9aa9-1da1506cc6b7"
      },
      "execution_count": null,
      "outputs": [
        {
          "output_type": "stream",
          "name": "stdout",
          "text": [
            "Collecting ta\n",
            "  Downloading ta-0.11.0.tar.gz (25 kB)\n",
            "  Preparing metadata (setup.py) ... \u001b[?25l\u001b[?25hdone\n",
            "Requirement already satisfied: numpy in /usr/local/lib/python3.10/dist-packages (from ta) (1.25.2)\n",
            "Requirement already satisfied: pandas in /usr/local/lib/python3.10/dist-packages (from ta) (2.0.3)\n",
            "Requirement already satisfied: python-dateutil>=2.8.2 in /usr/local/lib/python3.10/dist-packages (from pandas->ta) (2.8.2)\n",
            "Requirement already satisfied: pytz>=2020.1 in /usr/local/lib/python3.10/dist-packages (from pandas->ta) (2023.4)\n",
            "Requirement already satisfied: tzdata>=2022.1 in /usr/local/lib/python3.10/dist-packages (from pandas->ta) (2024.1)\n",
            "Requirement already satisfied: six>=1.5 in /usr/local/lib/python3.10/dist-packages (from python-dateutil>=2.8.2->pandas->ta) (1.16.0)\n",
            "Building wheels for collected packages: ta\n",
            "  Building wheel for ta (setup.py) ... \u001b[?25l\u001b[?25hdone\n",
            "  Created wheel for ta: filename=ta-0.11.0-py3-none-any.whl size=29411 sha256=dc318c0d3f09958a5f8b9f6137f818176cf7fbca548231d6074ccd587586b8c3\n",
            "  Stored in directory: /root/.cache/pip/wheels/5f/67/4f/8a9f252836e053e532c6587a3230bc72a4deb16b03a829610b\n",
            "Successfully built ta\n",
            "Installing collected packages: ta\n",
            "Successfully installed ta-0.11.0\n"
          ]
        }
      ]
    },
    {
      "cell_type": "code",
      "source": [
        "import ta\n",
        "data['RSI'] = ta.momentum.RSIIndicator(close=data['Close'], window=14).rsi()\n",
        "macd = ta.trend.MACD(close=data['Close'])\n",
        "data['MACD'] = macd.macd()\n",
        "data['MACD_Signal'] = macd.macd_signal()\n",
        "data['MACD_Diff'] = macd.macd_diff()\n",
        "for lag in range(1, 6):\n",
        "    data[f'Close_Lag_{lag}'] = data['Close'].shift(lag)\n",
        "data.dropna(inplace=True)"
      ],
      "metadata": {
        "id": "khXl_mlPMw8e"
      },
      "execution_count": null,
      "outputs": []
    },
    {
      "cell_type": "code",
      "source": [
        "data.fillna(method='ffill', inplace=True)\n",
        "data.dropna(inplace=True)\n",
        "train_data = data[data.index < '2023-01-01']\n",
        "test_data = data[data.index >= '2023-01-01']\n",
        "\n",
        "def rolling_autocorr(series, window):\n",
        "    return series.rolling(window).apply(lambda x: x.autocorr(), raw=False)\n",
        "\n",
        "window_size = 20\n",
        "train_data['Autocorr'] = rolling_autocorr(train_data['Close'], window=window_size)\n",
        "test_data['Autocorr'] = rolling_autocorr(test_data['Close'], window=window_size)\n",
        "train_data.dropna(inplace=True)\n",
        "test_data.dropna(inplace=True)\n",
        "\n"
      ],
      "metadata": {
        "colab": {
          "base_uri": "https://localhost:8080/"
        },
        "collapsed": true,
        "id": "3AyxaKEkNXkD",
        "outputId": "79595807-5cf0-4857-e97b-1f0ca539f679"
      },
      "execution_count": null,
      "outputs": [
        {
          "output_type": "stream",
          "name": "stderr",
          "text": [
            "<ipython-input-15-d16a31cf920c>:10: SettingWithCopyWarning:\n",
            "\n",
            "\n",
            "A value is trying to be set on a copy of a slice from a DataFrame.\n",
            "Try using .loc[row_indexer,col_indexer] = value instead\n",
            "\n",
            "See the caveats in the documentation: https://pandas.pydata.org/pandas-docs/stable/user_guide/indexing.html#returning-a-view-versus-a-copy\n",
            "\n",
            "<ipython-input-15-d16a31cf920c>:11: SettingWithCopyWarning:\n",
            "\n",
            "\n",
            "A value is trying to be set on a copy of a slice from a DataFrame.\n",
            "Try using .loc[row_indexer,col_indexer] = value instead\n",
            "\n",
            "See the caveats in the documentation: https://pandas.pydata.org/pandas-docs/stable/user_guide/indexing.html#returning-a-view-versus-a-copy\n",
            "\n",
            "<ipython-input-15-d16a31cf920c>:12: SettingWithCopyWarning:\n",
            "\n",
            "\n",
            "A value is trying to be set on a copy of a slice from a DataFrame\n",
            "\n",
            "See the caveats in the documentation: https://pandas.pydata.org/pandas-docs/stable/user_guide/indexing.html#returning-a-view-versus-a-copy\n",
            "\n",
            "<ipython-input-15-d16a31cf920c>:13: SettingWithCopyWarning:\n",
            "\n",
            "\n",
            "A value is trying to be set on a copy of a slice from a DataFrame\n",
            "\n",
            "See the caveats in the documentation: https://pandas.pydata.org/pandas-docs/stable/user_guide/indexing.html#returning-a-view-versus-a-copy\n",
            "\n"
          ]
        }
      ]
    },
    {
      "cell_type": "code",
      "source": [
        "features = ['Close', 'Volume', 'Autocorr', 'MA_200', 'MA_50', 'MA_20', 'BB_upper', 'BB_lower', 'EMA_20',\n",
        "            'RSI', 'MACD', 'MACD_Signal', 'MACD_Diff', 'Close_Lag_1', 'Close_Lag_2', 'Close_Lag_3', 'Close_Lag_4', 'Close_Lag_5']\n",
        "X_train = train_data[features]\n",
        "y_train = train_data['Close']\n",
        "X_test = test_data[features]\n",
        "y_test = test_data['Close']\n",
        "scaler = StandardScaler()\n",
        "X_train_scaled = scaler.fit_transform(X_train)\n",
        "X_test_scaled = scaler.transform(X_test)\n",
        "\n",
        "svm_model = SVR(kernel='rbf')\n",
        "svm_model.fit(X_train_scaled, y_train)\n",
        "y_pred = svm_model.predict(X_test_scaled)\n",
        "mse = mean_squared_error(y_test, y_pred)\n",
        "print(f\"Mean Squared Error: {mse}\")"
      ],
      "metadata": {
        "colab": {
          "base_uri": "https://localhost:8080/"
        },
        "id": "XQ_-D4nlNjel",
        "outputId": "3178bee3-2125-4179-a3ea-cd29ec9cb3d9"
      },
      "execution_count": null,
      "outputs": [
        {
          "output_type": "stream",
          "name": "stdout",
          "text": [
            "Mean Squared Error: 42498808.37773062\n"
          ]
        }
      ]
    },
    {
      "cell_type": "markdown",
      "source": [
        "## Grid SearchCV and Gradient Booster"
      ],
      "metadata": {
        "id": "w_Rz-GlHN0_A"
      }
    },
    {
      "cell_type": "code",
      "source": [
        "from sklearn.model_selection import GridSearchCV\n",
        "from sklearn.ensemble import GradientBoostingRegressor\n",
        "from sklearn.preprocessing import StandardScaler\n",
        "from sklearn.metrics import mean_squared_error\n",
        "features = ['Close', 'Volume', 'MA_200', 'MA_50', 'MA_20', 'BB_upper', 'BB_lower', 'EMA_20',\n",
        "            'RSI', 'MACD', 'MACD_Signal', 'MACD_Diff', 'Close_Lag_1', 'Close_Lag_2', 'Close_Lag_3', 'Close_Lag_4', 'Close_Lag_5']\n",
        "X_train = train_data[features]\n",
        "y_train = train_data['Close']\n",
        "X_test = test_data[features]\n",
        "y_test = test_data['Close']\n",
        "\n",
        "scaler = StandardScaler()\n",
        "X_train_scaled = scaler.fit_transform(X_train)\n",
        "X_test_scaled = scaler.transform(X_test)\n",
        "gb_model = GradientBoostingRegressor()\n",
        "param_grid = {\n",
        "    'n_estimators': [100, 200],\n",
        "    'learning_rate': [0.01, 0.1],\n",
        "    'max_depth': [3, 5, 7],\n",
        "    'min_samples_split': [2, 5],\n",
        "    'min_samples_leaf': [1, 3]\n",
        "}\n",
        "grid_search = GridSearchCV(estimator=gb_model, param_grid=param_grid, cv=5, n_jobs=-1, verbose=2)\n",
        "grid_search.fit(X_train_scaled, y_train)\n",
        "\n",
        "\n",
        "best_model = grid_search.best_estimator_\n",
        "y_pred = best_model.predict(X_test_scaled)\n",
        "mse = mean_squared_error(y_test, y_pred)\n",
        "print(f\"Mean Squared Error: {mse}\")"
      ],
      "metadata": {
        "colab": {
          "base_uri": "https://localhost:8080/"
        },
        "id": "jb3k8TiaOKyb",
        "outputId": "5c09d6c9-6deb-41c3-9866-7b6a9c6f6f2f"
      },
      "execution_count": null,
      "outputs": [
        {
          "output_type": "stream",
          "name": "stdout",
          "text": [
            "Fitting 5 folds for each of 48 candidates, totalling 240 fits\n",
            "Mean Squared Error: 9405.327238594426\n"
          ]
        }
      ]
    },
    {
      "cell_type": "code",
      "source": [
        "data['Fibonacci_21'] = data['Close'].rolling(window=21).mean()\n",
        "data['Fibonacci_34'] = data['Close'].rolling(window=34).mean()\n",
        "data['Fibonacci_55'] = data['Close'].rolling(window=55).mean()\n",
        "\n",
        "\n",
        "def hull_moving_average(data, window):\n",
        "    half_window = int(window / 2)\n",
        "    sqrt_window = int(np.sqrt(window))\n",
        "    wma_half = 2 * data.rolling(window=half_window).mean()\n",
        "    wma_full = data.rolling(window=window).mean()\n",
        "    hma = (wma_half - wma_full).rolling(window=sqrt_window).mean()\n",
        "    return hma\n",
        "\n",
        "data['HMA_20'] = hull_moving_average(data['Close'], 20)"
      ],
      "metadata": {
        "id": "HXle4VzeRu3i"
      },
      "execution_count": null,
      "outputs": []
    },
    {
      "cell_type": "code",
      "source": [
        "for lag in range(1, 6):\n",
        "    data[f'Close_Lag_{lag}'] = data['Close'].shift(lag)\n",
        "data.dropna(inplace=True)\n",
        "train_data = data[data.index < '2023-01-01']\n",
        "test_data = data[data.index >= '2023-01-01']\n"
      ],
      "metadata": {
        "id": "N_9APYeoSdwo"
      },
      "execution_count": null,
      "outputs": []
    },
    {
      "cell_type": "code",
      "source": [
        "features = ['Close', 'Volume', 'MA_200', 'MA_50', 'MA_20', 'BB_upper', 'BB_lower', 'EMA_20',\n",
        "            'RSI', 'MACD', 'MACD_Signal', 'MACD_Diff', 'Close_Lag_1', 'Close_Lag_2', 'Close_Lag_3',\n",
        "            'Close_Lag_4', 'Close_Lag_5', 'Fibonacci_21', 'Fibonacci_34', 'Fibonacci_55', 'HMA_20']\n",
        "X_train = train_data[features]\n",
        "y_train = train_data['Close']\n",
        "X_test = test_data[features]\n",
        "y_test = test_data['Close']\n",
        "\n",
        "# Standardize the feature\n",
        "scaler = StandardScaler()\n",
        "X_train_scaled = scaler.fit_transform(X_train)\n",
        "X_test_scaled = scaler.transform(X_test)\n",
        "\n",
        "# Initialize Gradient Booster\n",
        "gb_model = GradientBoostingRegressor()\n",
        "param_grid = {\n",
        "    'n_estimators': [100, 200],\n",
        "    'learning_rate': [0.01, 0.1],\n",
        "    'max_depth': [3, 5, 7],\n",
        "    'min_samples_split': [2, 5],\n",
        "    'min_samples_leaf': [1, 3]\n",
        "}\n",
        "grid_search = GridSearchCV(estimator=gb_model, param_grid=param_grid, cv=5, n_jobs=-1, verbose=2)\n",
        "grid_search.fit(X_train_scaled, y_train)\n",
        "best_model = grid_search.best_estimator_\n",
        "y_pred = best_model.predict(X_test_scaled)\n",
        "\n",
        "# Calculate the Mean Squared Error\n",
        "mse = mean_squared_error(y_test, y_pred)\n",
        "print(f\"Mean Squared Error: {mse}\")"
      ],
      "metadata": {
        "colab": {
          "base_uri": "https://localhost:8080/"
        },
        "id": "eZ1Eye-ISK1C",
        "outputId": "0c383bf0-d4d2-4ca3-e701-c8a261b6cc84"
      },
      "execution_count": null,
      "outputs": [
        {
          "output_type": "stream",
          "name": "stdout",
          "text": [
            "Fitting 5 folds for each of 48 candidates, totalling 240 fits\n",
            "Mean Squared Error: 7892.258722360177\n"
          ]
        }
      ]
    },
    {
      "cell_type": "code",
      "source": [],
      "metadata": {
        "id": "LwXsk3tJWQ9p"
      },
      "execution_count": null,
      "outputs": []
    }
  ]
}